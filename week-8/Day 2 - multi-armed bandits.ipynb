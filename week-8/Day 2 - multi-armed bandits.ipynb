{
 "cells": [
  {
   "cell_type": "markdown",
   "metadata": {},
   "source": [
    "# Multi-armed Bandits\n",
    "\n",
    "Today we return to the widget factory from last time, but we will pretend all three methods for producing widgets are new, so we don't know anything about them.\n",
    "\n",
    "The goal is to produce 10,000 widgets as quickly as possible.  There is a balance between exploring (figuring out which option is best) and exploiting (choosing the right option over and over)."
   ]
  },
  {
   "cell_type": "markdown",
   "metadata": {},
   "source": [
    "# Test then Greedy\n",
    "\n",
    "With this technique we will test each widget production method for a fixed number of seconds $N$ (which you determine).  Then pick the winner from the experiment and use it to get to 10,000 widgets.  \n",
    "\n",
    "Run this a number of times with different values for $N$ and see if you can get a sense of the right answer.  The answer will be different each time even with the same constants because the number of widgets produced is a random variable.\n",
    "\n",
    "The sooner we can find the best, the faster we can make the widgets.  But what happens if we choose the wrong winner?"
   ]
  },
  {
   "cell_type": "code",
   "execution_count": null,
   "metadata": {},
   "outputs": [],
   "source": [
    "import experiment\n",
    "\n",
    "N = 1 # 1 is probably not enough!\n",
    "\n",
    "testNames = [\"A\",\"B\",\"C\"]\n",
    "\n",
    "experimentResults = {}\n",
    "for testName in testNames:\n",
    "    testWidgets = 0\n",
    "    for ii in range(N):\n",
    "        testWidgets += experiment.makeWidgets(testName)\n",
    "    # Add to results\n",
    "    experimentResults[testName] = testWidgets\n",
    "    \n",
    "# Pick the winner\n",
    "winningTest = max(experimentResults, key=experimentResults.get)\n",
    "\n",
    "print(experimentResults)\n",
    "print(\"Winner is \" + winningTest)"
   ]
  },
  {
   "cell_type": "code",
   "execution_count": null,
   "metadata": {},
   "outputs": [],
   "source": [
    "totalWidgets = sum(experimentResults.values())\n",
    "experimentCount = N*len(testNames)\n",
    "\n",
    "winnerWidgets = 0\n",
    "while totalWidgets < 10000:\n",
    "    totalWidgets += experiment.makeWidgets(winningTest)\n",
    "    experimentCount += 1\n",
    "        \n",
    "print(\"Made \" + str(totalWidgets) + \" in \" + str(experimentCount) + \n",
    "      \" seconds!\")"
   ]
  },
  {
   "cell_type": "markdown",
   "metadata": {},
   "source": [
    "# Upper Confidence Bound\n",
    "\n",
    "Now let's try a different technique!  \n",
    "\n",
    "Start by choosing each arm once\n",
    "\n",
    "Then run the experiment that maximizes \n",
    "\n",
    "$m_j + \\sqrt{\\frac{2\\ln N}{N_j}}$"
   ]
  },
  {
   "cell_type": "code",
   "execution_count": null,
   "metadata": {},
   "outputs": [],
   "source": [
    "import numpy as np"
   ]
  },
  {
   "cell_type": "code",
   "execution_count": null,
   "metadata": {},
   "outputs": [],
   "source": [
    "# Run each once, and build the dictionary of results\n",
    "results = {}\n",
    "for testName in testNames:\n",
    "    results[testName] = [experiment.makeWidgets(testName)]\n",
    "\n",
    "print(results)"
   ]
  },
  {
   "cell_type": "code",
   "execution_count": null,
   "metadata": {},
   "outputs": [],
   "source": [
    "# This function finds the upper confidence bound scores\n",
    "def ucb(results):\n",
    "    # First find the total number of experiments run so far\n",
    "    N = 0 \n",
    "    for widgetResults in results:\n",
    "        N += len(widgetResults)\n",
    "    # Calculate the score for each experiment\n",
    "    for testName in results.keys():\n",
    "        mean = np.mean(results[testName])\n",
    "        count = len(results[testName])\n",
    "\n",
    "        score = mean + np.sqrt(2*np.log(N)/count)\n",
    "        scores[testName] = score\n",
    "    return scores"
   ]
  },
  {
   "cell_type": "code",
   "execution_count": null,
   "metadata": {},
   "outputs": [],
   "source": [
    "# Let's look at the results for one run each\n",
    "ucbResults = ucb(results)\n",
    "print(ucbResults)\n",
    "winningTest = max(ucbResults, key=ucbResults.get)\n",
    "print(\"Winner is \" + winningTest)"
   ]
  },
  {
   "cell_type": "markdown",
   "metadata": {},
   "source": [
    "Now you need to code the test!  Produce 10,000 widgets as fast as possible, including experimentation.  When you are done, record how many of each experiment were run."
   ]
  },
  {
   "cell_type": "code",
   "execution_count": null,
   "metadata": {},
   "outputs": [],
   "source": [
    "# Your code here"
   ]
  }
 ],
 "metadata": {
  "kernelspec": {
   "display_name": "Python 3",
   "language": "python",
   "name": "python3"
  },
  "language_info": {
   "codemirror_mode": {
    "name": "ipython",
    "version": 3
   },
   "file_extension": ".py",
   "mimetype": "text/x-python",
   "name": "python",
   "nbconvert_exporter": "python",
   "pygments_lexer": "ipython3",
   "version": "3.6.6"
  }
 },
 "nbformat": 4,
 "nbformat_minor": 2
}
