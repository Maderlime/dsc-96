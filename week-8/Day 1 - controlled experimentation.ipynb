{
 "cells": [
  {
   "cell_type": "markdown",
   "metadata": {},
   "source": [
    "# A/B Testing\n",
    "\n",
    "Colin Jemmott for UCSD, October 2018\n",
    "\n",
    "The goal of this workbook is to get you comfortable with basic hypothesis testing, and to run a simple experiment.\n",
    "\n",
    "For further reading I recommend [Controlled Experiments on the web](http://www.robotics.stanford.edu/~ronnyk/2009controlledExperimentsOnTheWebSurvey.pdf)\n",
    "\n",
    "Helpful formulas:\n",
    "\n",
    "### Minimum sample size\n",
    "\n",
    "$n = \\frac{16\\sigma^2}{\\Delta^2}$\n",
    "\n",
    "### Welch's *t*-test\n",
    "\n",
    "$t=\\frac{m_1-m_0}{\\sqrt{\\frac{\\sigma_1^2}{N_1}+\\frac{\\sigma_0^2}{N_0}}}$\n",
    "\n",
    "*t* greater than 1.96 is the threshold for 95% significance."
   ]
  },
  {
   "cell_type": "markdown",
   "metadata": {},
   "source": [
    "### Exercise 1a\n",
    "\n",
    "Suppose you have an e-commerce site and 5% of users who visit during the\n",
    "experiment period end up purchasing. Those purchasing spend about $\\$$75. The\n",
    "average user therefore spends $\\$$3.75 (95\\% spend $\\$$0). Assume the standard deviation is $\\$$30. If you are running an A/B test and want to detect a 5% change to revenue, how many users will you need to test to achieve the desired 80% power?"
   ]
  },
  {
   "cell_type": "code",
   "execution_count": null,
   "metadata": {},
   "outputs": [],
   "source": [
    "# Your math here"
   ]
  },
  {
   "cell_type": "markdown",
   "metadata": {},
   "source": [
    "### Exercise 1b\n",
    "\n",
    "How would the number of users change if we were looking to test a 20% change in revenue instead of 5%?  Why is the number so different?"
   ]
  },
  {
   "cell_type": "code",
   "execution_count": null,
   "metadata": {},
   "outputs": [],
   "source": [
    "# Your math here"
   ]
  },
  {
   "cell_type": "markdown",
   "metadata": {},
   "source": [
    "### Exercise 1c\n",
    "\n",
    "You run the experiment with 10,000 visitors each for the original and the proposed improvement.  It does look like the variance is unchanged with the experiment, and the purchasing spend is 20% higher.  Is it significant?"
   ]
  },
  {
   "cell_type": "code",
   "execution_count": null,
   "metadata": {},
   "outputs": [],
   "source": [
    "# Your math here"
   ]
  },
  {
   "cell_type": "markdown",
   "metadata": {},
   "source": [
    "## Exercise 2: Making Widgets\n",
    "\n",
    "You run a factory that produces widgets using method A. A manager has proposed a different method, B, which he thinks might be as much as 15% better but isn't sure. It is easy to switch the factory line back and forth, so you decide to run an experiment.\n",
    "\n",
    "Each time the production line is run, either zero or one widgets are produced. Right now method A produces an average of about 0.5 widgets per run (can you calculate the corresponding standard deviation?). \n",
    "\n",
    "You can run the line by making that many widgets using\n",
    "\n",
    "```\n",
    "import experiment\n",
    "experiment.makeWidgets(\"B\") # You can also test method \"A\"\n",
    "```\n",
    "The output of the experiment is the number of widgets made (0 or 1) in one run.\n",
    "\n",
    "### Steps\n",
    "\n",
    "1. Figure out how long you need to run the experiment.  \n",
    "2. Run it!  \n",
    "3. Test if the results are statistically significant (you will need to test both methods to test the significance using Welch's *t*-test.)\n",
    "\n",
    "*p.s. no peeking in the experiment.py file*"
   ]
  },
  {
   "cell_type": "code",
   "execution_count": null,
   "metadata": {},
   "outputs": [],
   "source": [
    "# Your math here"
   ]
  },
  {
   "cell_type": "markdown",
   "metadata": {},
   "source": [
    "# Stretch Goal\n",
    "\n",
    "## Exercise 3: More Widgets\n",
    "\n",
    "Another manager has an idea for how to make things better, this time by only 5%.  Repeat your analysis and experiment again with line \"C\".\n",
    "```\n",
    "experiment.makeWidgets(\"C\")\n",
    "```"
   ]
  },
  {
   "cell_type": "code",
   "execution_count": null,
   "metadata": {},
   "outputs": [],
   "source": [
    "# Your math here"
   ]
  },
  {
   "cell_type": "markdown",
   "metadata": {},
   "source": [
    "Oh my, that was terrible!  Why did we run \"C\" for so long without stoping?  We lost so much money!  Can you think of a better way to experiment?"
   ]
  }
 ],
 "metadata": {
  "kernelspec": {
   "display_name": "Python 3",
   "language": "python",
   "name": "python3"
  },
  "language_info": {
   "codemirror_mode": {
    "name": "ipython",
    "version": 3
   },
   "file_extension": ".py",
   "mimetype": "text/x-python",
   "name": "python",
   "nbconvert_exporter": "python",
   "pygments_lexer": "ipython3",
   "version": "3.6.1"
  }
 },
 "nbformat": 4,
 "nbformat_minor": 2
}
