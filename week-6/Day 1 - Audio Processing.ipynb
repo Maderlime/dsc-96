{
 "cells": [
  {
   "cell_type": "markdown",
   "metadata": {},
   "source": [
    "# Audio Processing\n",
    "\n",
    "Colin Jemmott for UC San Diego, September 2018\n",
    "\n",
    "Today we will learn:\n",
    "\n",
    "* How to make sounds with code\n",
    "* How to manipulate those sounds with math\n",
    "* How to play a short song!"
   ]
  },
  {
   "cell_type": "markdown",
   "metadata": {},
   "source": [
    "# Make a sound file with a sine wave"
   ]
  },
  {
   "cell_type": "code",
   "execution_count": null,
   "metadata": {},
   "outputs": [],
   "source": [
    "import numpy as np"
   ]
  },
  {
   "cell_type": "code",
   "execution_count": null,
   "metadata": {},
   "outputs": [],
   "source": [
    "samplingRate = 44100 # Hz\n",
    "f = 440 # frequency of sine wave in Hz\n",
    "t_max = 2 # seconds of recording length\n",
    "\n",
    "N_max = int(t_max * samplingRate) # Number of samples\n",
    "\n",
    "t = np.divide(list(range(N_max)) , samplingRate) # time of each sample\n",
    "\n",
    "wave = np.sin(np.multiply(t, 2*np.pi*f)) # sine wave"
   ]
  },
  {
   "cell_type": "code",
   "execution_count": null,
   "metadata": {
    "scrolled": true
   },
   "outputs": [],
   "source": [
    "wave[:20]"
   ]
  },
  {
   "cell_type": "code",
   "execution_count": null,
   "metadata": {},
   "outputs": [],
   "source": [
    "len(wave)"
   ]
  },
  {
   "cell_type": "code",
   "execution_count": null,
   "metadata": {},
   "outputs": [],
   "source": [
    "from scipy.io.wavfile import write\n",
    "\n",
    "# we need to scale the sine wave so that it fits the wav standard\n",
    "scaled = np.int16(wave/np.max(np.abs(wave)) * 32767)\n",
    "write('440.wav', samplingRate, scaled)"
   ]
  },
  {
   "cell_type": "markdown",
   "metadata": {},
   "source": [
    "Now download the file and listen to it.  Neat!\n",
    "\n",
    "# Amplitude\n",
    "\n",
    "What happens if you make the line\n",
    "```\n",
    "scaled = np.int16(wave/np.max(np.abs(wave)) * 32767)\n",
    "```\n",
    "one tenth as large?"
   ]
  },
  {
   "cell_type": "code",
   "execution_count": null,
   "metadata": {},
   "outputs": [],
   "source": [
    "# your code here"
   ]
  },
  {
   "cell_type": "markdown",
   "metadata": {},
   "source": [
    "Now what if you multiply it by a linear ramp, starting at 0 and ending at 1?"
   ]
  },
  {
   "cell_type": "code",
   "execution_count": null,
   "metadata": {},
   "outputs": [],
   "source": [
    "# your code here"
   ]
  },
  {
   "cell_type": "markdown",
   "metadata": {},
   "source": [
    "# Noise\n",
    "\n",
    "Let's try a different signal.  Make a two second recording of random noise using\n",
    "```\n",
    "np.random.rand(mean, stdev, N)\n",
    "```\n",
    "What does that sound like?"
   ]
  },
  {
   "cell_type": "code",
   "execution_count": null,
   "metadata": {},
   "outputs": [],
   "source": [
    "# Your code here"
   ]
  },
  {
   "cell_type": "markdown",
   "metadata": {},
   "source": [
    "# Play a Song!\n",
    "\n",
    "The tempo should be 150 beats per minute, and the length scale is so that a quarter note is 1.  Putting a rest between notes is important!\n"
   ]
  },
  {
   "cell_type": "code",
   "execution_count": null,
   "metadata": {},
   "outputs": [],
   "source": [
    "e = 329 # Hz\n",
    "d = 293 # Hz\n",
    "c = 261 # Hz\n",
    "\n",
    "notes = [e, d, c, d, e, e, e]\n",
    "length = [2, 2, 2, 2, 2, 2, 4]"
   ]
  },
  {
   "cell_type": "code",
   "execution_count": null,
   "metadata": {},
   "outputs": [],
   "source": [
    "# Your code here"
   ]
  },
  {
   "cell_type": "markdown",
   "metadata": {},
   "source": [
    "# Optional: play with sound\n",
    "\n",
    "What happens if you invert it?  Make a maximum and minimum threshold?  Remove all the small numbers?  Audio signal processing is a big world!"
   ]
  }
 ],
 "metadata": {
  "kernelspec": {
   "display_name": "Python 3",
   "language": "python",
   "name": "python3"
  },
  "language_info": {
   "codemirror_mode": {
    "name": "ipython",
    "version": 3
   },
   "file_extension": ".py",
   "mimetype": "text/x-python",
   "name": "python",
   "nbconvert_exporter": "python",
   "pygments_lexer": "ipython3",
   "version": "3.6.6"
  }
 },
 "nbformat": 4,
 "nbformat_minor": 2
}
